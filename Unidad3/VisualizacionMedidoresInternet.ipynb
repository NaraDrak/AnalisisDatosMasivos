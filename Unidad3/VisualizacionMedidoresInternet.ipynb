{
 "cells": [
  {
   "cell_type": "markdown",
   "metadata": {},
   "source": [
    "![](../Assets/itd.png)\n",
    "<div style= \"Text-align: center\">\n",
    "    \n",
    "# Analisis de Datos \n",
    "## Estadisticas Descriptivas en Python\n",
    "### José Gabriel Rodriguez Rivas    \n",
    "### Angel Omar Ceniceros Berumen\n",
    "    \n",
    "    \n",
    "\n",
    "</div>"
   ]
  },
  {
   "cell_type": "code",
   "execution_count": 3,
   "metadata": {},
   "outputs": [],
   "source": [
    "import pandas as pd\n",
    "import numpy as np"
   ]
  },
  {
   "cell_type": "code",
   "execution_count": 4,
   "metadata": {},
   "outputs": [
    {
     "data": {
      "text/html": [
       "<div>\n",
       "<style scoped>\n",
       "    .dataframe tbody tr th:only-of-type {\n",
       "        vertical-align: middle;\n",
       "    }\n",
       "\n",
       "    .dataframe tbody tr th {\n",
       "        vertical-align: top;\n",
       "    }\n",
       "\n",
       "    .dataframe thead th {\n",
       "        text-align: right;\n",
       "    }\n",
       "</style>\n",
       "<table border=\"1\" class=\"dataframe\">\n",
       "  <thead>\n",
       "    <tr style=\"text-align: right;\">\n",
       "      <th></th>\n",
       "      <th>Unnamed: 0</th>\n",
       "      <th>Ping (ms)</th>\n",
       "      <th>Download (Mbit/s)</th>\n",
       "      <th>Upload (Mbit/s)</th>\n",
       "      <th>Date</th>\n",
       "      <th>Time</th>\n",
       "    </tr>\n",
       "  </thead>\n",
       "  <tbody>\n",
       "    <tr>\n",
       "      <th>0</th>\n",
       "      <td>0</td>\n",
       "      <td>26.992</td>\n",
       "      <td>91.80</td>\n",
       "      <td>14.31</td>\n",
       "      <td>2016-11-24</td>\n",
       "      <td>13:36:25</td>\n",
       "    </tr>\n",
       "    <tr>\n",
       "      <th>1</th>\n",
       "      <td>1</td>\n",
       "      <td>24.532</td>\n",
       "      <td>88.19</td>\n",
       "      <td>14.12</td>\n",
       "      <td>2016-11-24</td>\n",
       "      <td>13:36:55</td>\n",
       "    </tr>\n",
       "    <tr>\n",
       "      <th>2</th>\n",
       "      <td>2</td>\n",
       "      <td>20.225</td>\n",
       "      <td>59.86</td>\n",
       "      <td>14.11</td>\n",
       "      <td>2016-11-24</td>\n",
       "      <td>13:37:25</td>\n",
       "    </tr>\n",
       "  </tbody>\n",
       "</table>\n",
       "</div>"
      ],
      "text/plain": [
       "   Unnamed: 0  Ping (ms)  Download (Mbit/s)  Upload (Mbit/s)        Date  \\\n",
       "0           0     26.992              91.80            14.31  2016-11-24   \n",
       "1           1     24.532              88.19            14.12  2016-11-24   \n",
       "2           2     20.225              59.86            14.11  2016-11-24   \n",
       "\n",
       "       Time  \n",
       "0  13:36:25  \n",
       "1  13:36:55  \n",
       "2  13:37:25  "
      ]
     },
     "execution_count": 4,
     "metadata": {},
     "output_type": "execute_result"
    }
   ],
   "source": [
    "# Code Cell 2\n",
    "# Import data from csv file\n",
    "df_compact = pd.read_csv('./Data/rpi_data_compact2.csv')\n",
    "df_compact.head(3)"
   ]
  },
  {
   "cell_type": "code",
   "execution_count": 5,
   "metadata": {},
   "outputs": [
    {
     "data": {
      "text/html": [
       "<div>\n",
       "<style scoped>\n",
       "    .dataframe tbody tr th:only-of-type {\n",
       "        vertical-align: middle;\n",
       "    }\n",
       "\n",
       "    .dataframe tbody tr th {\n",
       "        vertical-align: top;\n",
       "    }\n",
       "\n",
       "    .dataframe thead th {\n",
       "        text-align: right;\n",
       "    }\n",
       "</style>\n",
       "<table border=\"1\" class=\"dataframe\">\n",
       "  <thead>\n",
       "    <tr style=\"text-align: right;\">\n",
       "      <th></th>\n",
       "      <th>Ping (ms)</th>\n",
       "      <th>Download (Mbit/s)</th>\n",
       "      <th>Upload (Mbit/s)</th>\n",
       "      <th>Date</th>\n",
       "      <th>Time</th>\n",
       "    </tr>\n",
       "  </thead>\n",
       "  <tbody>\n",
       "    <tr>\n",
       "      <th>0</th>\n",
       "      <td>26.992</td>\n",
       "      <td>91.80</td>\n",
       "      <td>14.31</td>\n",
       "      <td>2016-11-24</td>\n",
       "      <td>13:36:25</td>\n",
       "    </tr>\n",
       "    <tr>\n",
       "      <th>1</th>\n",
       "      <td>24.532</td>\n",
       "      <td>88.19</td>\n",
       "      <td>14.12</td>\n",
       "      <td>2016-11-24</td>\n",
       "      <td>13:36:55</td>\n",
       "    </tr>\n",
       "    <tr>\n",
       "      <th>2</th>\n",
       "      <td>20.225</td>\n",
       "      <td>59.86</td>\n",
       "      <td>14.11</td>\n",
       "      <td>2016-11-24</td>\n",
       "      <td>13:37:25</td>\n",
       "    </tr>\n",
       "    <tr>\n",
       "      <th>3</th>\n",
       "      <td>19.332</td>\n",
       "      <td>91.81</td>\n",
       "      <td>14.22</td>\n",
       "      <td>2016-11-24</td>\n",
       "      <td>13:37:57</td>\n",
       "    </tr>\n",
       "    <tr>\n",
       "      <th>4</th>\n",
       "      <td>22.494</td>\n",
       "      <td>92.05</td>\n",
       "      <td>14.08</td>\n",
       "      <td>2016-11-24</td>\n",
       "      <td>13:38:27</td>\n",
       "    </tr>\n",
       "  </tbody>\n",
       "</table>\n",
       "</div>"
      ],
      "text/plain": [
       "   Ping (ms)  Download (Mbit/s)  Upload (Mbit/s)        Date      Time\n",
       "0     26.992              91.80            14.31  2016-11-24  13:36:25\n",
       "1     24.532              88.19            14.12  2016-11-24  13:36:55\n",
       "2     20.225              59.86            14.11  2016-11-24  13:37:25\n",
       "3     19.332              91.81            14.22  2016-11-24  13:37:57\n",
       "4     22.494              92.05            14.08  2016-11-24  13:38:27"
      ]
     },
     "execution_count": 5,
     "metadata": {},
     "output_type": "execute_result"
    }
   ],
   "source": [
    "df_compact.drop(['Unnamed: 0'],axis=1,inplace=True)\n",
    "df_compact.head()"
   ]
  },
  {
   "cell_type": "code",
   "execution_count": 6,
   "metadata": {},
   "outputs": [
    {
     "name": "stdout",
     "output_type": "stream",
     "text": [
      "<class 'pandas.core.frame.DataFrame'>\n"
     ]
    },
    {
     "data": {
      "text/html": [
       "<div>\n",
       "<style scoped>\n",
       "    .dataframe tbody tr th:only-of-type {\n",
       "        vertical-align: middle;\n",
       "    }\n",
       "\n",
       "    .dataframe tbody tr th {\n",
       "        vertical-align: top;\n",
       "    }\n",
       "\n",
       "    .dataframe thead th {\n",
       "        text-align: right;\n",
       "    }\n",
       "</style>\n",
       "<table border=\"1\" class=\"dataframe\">\n",
       "  <thead>\n",
       "    <tr style=\"text-align: right;\">\n",
       "      <th></th>\n",
       "      <th>Ping (ms)</th>\n",
       "      <th>Download (Mbit/s)</th>\n",
       "      <th>Upload (Mbit/s)</th>\n",
       "      <th>Date</th>\n",
       "      <th>Time</th>\n",
       "    </tr>\n",
       "  </thead>\n",
       "  <tbody>\n",
       "    <tr>\n",
       "      <th>0</th>\n",
       "      <td>False</td>\n",
       "      <td>False</td>\n",
       "      <td>False</td>\n",
       "      <td>False</td>\n",
       "      <td>False</td>\n",
       "    </tr>\n",
       "    <tr>\n",
       "      <th>1</th>\n",
       "      <td>False</td>\n",
       "      <td>False</td>\n",
       "      <td>False</td>\n",
       "      <td>False</td>\n",
       "      <td>False</td>\n",
       "    </tr>\n",
       "    <tr>\n",
       "      <th>2</th>\n",
       "      <td>False</td>\n",
       "      <td>False</td>\n",
       "      <td>False</td>\n",
       "      <td>False</td>\n",
       "      <td>False</td>\n",
       "    </tr>\n",
       "    <tr>\n",
       "      <th>3</th>\n",
       "      <td>False</td>\n",
       "      <td>False</td>\n",
       "      <td>False</td>\n",
       "      <td>False</td>\n",
       "      <td>False</td>\n",
       "    </tr>\n",
       "    <tr>\n",
       "      <th>4</th>\n",
       "      <td>False</td>\n",
       "      <td>False</td>\n",
       "      <td>False</td>\n",
       "      <td>False</td>\n",
       "      <td>False</td>\n",
       "    </tr>\n",
       "  </tbody>\n",
       "</table>\n",
       "</div>"
      ],
      "text/plain": [
       "   Ping (ms)  Download (Mbit/s)  Upload (Mbit/s)   Date   Time\n",
       "0      False              False            False  False  False\n",
       "1      False              False            False  False  False\n",
       "2      False              False            False  False  False\n",
       "3      False              False            False  False  False\n",
       "4      False              False            False  False  False"
      ]
     },
     "execution_count": 6,
     "metadata": {},
     "output_type": "execute_result"
    }
   ],
   "source": [
    "# Code Cell 4\n",
    "NaNs_in_df = df_compact.isnull()\n",
    "print(type(NaNs_in_df))\n",
    "NaNs_in_df.head()"
   ]
  },
  {
   "cell_type": "code",
   "execution_count": 7,
   "metadata": {},
   "outputs": [
    {
     "name": "stdout",
     "output_type": "stream",
     "text": [
      "<class 'pandas.core.series.Series'>\n"
     ]
    },
    {
     "data": {
      "text/plain": [
       "Ping (ms)            1\n",
       "Download (Mbit/s)    1\n",
       "Upload (Mbit/s)      7\n",
       "Date                 7\n",
       "Time                 8\n",
       "dtype: int64"
      ]
     },
     "execution_count": 7,
     "metadata": {},
     "output_type": "execute_result"
    }
   ],
   "source": [
    "# Code Cell 5\n",
    "NaNs_per_column = NaNs_in_df.sum()\n",
    "print(type(NaNs_per_column))\n",
    "NaNs_per_column.head()"
   ]
  },
  {
   "cell_type": "code",
   "execution_count": 8,
   "metadata": {},
   "outputs": [
    {
     "data": {
      "text/plain": [
       "24"
      ]
     },
     "execution_count": 8,
     "metadata": {},
     "output_type": "execute_result"
    }
   ],
   "source": [
    "# Code Cell 6\n",
    "NaNs_total = NaNs_per_column.sum()\n",
    "NaNs_total"
   ]
  },
  {
   "cell_type": "code",
   "execution_count": 9,
   "metadata": {},
   "outputs": [
    {
     "data": {
      "text/plain": [
       "24"
      ]
     },
     "execution_count": 9,
     "metadata": {},
     "output_type": "execute_result"
    }
   ],
   "source": [
    "# Code Cell 7\n",
    "df_compact.isnull().sum().sum()"
   ]
  },
  {
   "cell_type": "code",
   "execution_count": 10,
   "metadata": {},
   "outputs": [
    {
     "name": "stdout",
     "output_type": "stream",
     "text": [
      "The DataFrame contains : 24 NaNs, equals to 0.7059 of the measurements\n"
     ]
    }
   ],
   "source": [
    "# Code Cell 8\n",
    "NaNs_pct = np.round(df_compact.isnull().sum().sum()/float(len(df_compact)*len(df_compact.columns))*100, decimals = 4)\n",
    "print('The DataFrame contains : {} NaNs, equals to {} of the measurements'.format(NaNs_total, NaNs_pct))"
   ]
  },
  {
   "cell_type": "code",
   "execution_count": 11,
   "metadata": {},
   "outputs": [],
   "source": [
    "# Code Cell 9\n",
    "# Remove NaN values\n",
    "df_compact_clean = df_compact.dropna()"
   ]
  },
  {
   "cell_type": "markdown",
   "metadata": {},
   "source": [
    "Compare la longitud de la Estructura de datos antes y después de utilizar dropna. ¿Observa algún valor impar? ¿Por qué?"
   ]
  },
  {
   "cell_type": "code",
   "execution_count": 12,
   "metadata": {},
   "outputs": [
    {
     "ename": "SyntaxError",
     "evalue": "invalid syntax (<ipython-input-12-376bd1e20a4b>, line 1)",
     "output_type": "error",
     "traceback": [
      "\u001b[1;36m  File \u001b[1;32m\"<ipython-input-12-376bd1e20a4b>\"\u001b[1;36m, line \u001b[1;32m1\u001b[0m\n\u001b[1;33m    Compare la longitud de la Estructura de datos antes y después de utilizar dropna. ¿Observa algún valor impar? ¿Por qué\u001b[0m\n\u001b[1;37m             ^\u001b[0m\n\u001b[1;31mSyntaxError\u001b[0m\u001b[1;31m:\u001b[0m invalid syntax\n"
     ]
    }
   ],
   "source": [
    "Compare la longitud de la Estructura de datos antes y después de utilizar dropna. ¿Observa algún valor impar? ¿Por qué"
   ]
  },
  {
   "cell_type": "code",
   "execution_count": 13,
   "metadata": {},
   "outputs": [
    {
     "name": "stdout",
     "output_type": "stream",
     "text": [
      "680\n",
      "672\n"
     ]
    }
   ],
   "source": [
    "# Code Cell 10\n",
    "print(len(df_compact))\n",
    "print(len(df_compact_clean))"
   ]
  },
  {
   "cell_type": "code",
   "execution_count": 14,
   "metadata": {},
   "outputs": [
    {
     "data": {
      "text/plain": [
       "Ping (ms)            float64\n",
       "Download (Mbit/s)    float64\n",
       "Upload (Mbit/s)      float64\n",
       "Date                  object\n",
       "Time                  object\n",
       "dtype: object"
      ]
     },
     "execution_count": 14,
     "metadata": {},
     "output_type": "execute_result"
    }
   ],
   "source": [
    "# Code Cell 11\n",
    "# Ping and Download are not floats\n",
    "df_compact.dtypes"
   ]
  },
  {
   "cell_type": "code",
   "execution_count": 15,
   "metadata": {},
   "outputs": [
    {
     "name": "stdout",
     "output_type": "stream",
     "text": [
      "10.56 <class 'str'> 10.56 <class 'float'>\n"
     ]
    }
   ],
   "source": [
    "# Code Cell 12\n",
    "str_val = '10.56'\n",
    "float_val = float(str_val)\n",
    "print(str_val, type(str_val), float_val, type(float_val))"
   ]
  },
  {
   "cell_type": "code",
   "execution_count": 16,
   "metadata": {},
   "outputs": [
    {
     "name": "stderr",
     "output_type": "stream",
     "text": [
      "C:\\ProgramData\\Anaconda3\\lib\\site-packages\\ipykernel_launcher.py:3: SettingWithCopyWarning: \n",
      "A value is trying to be set on a copy of a slice from a DataFrame.\n",
      "Try using .loc[row_indexer,col_indexer] = value instead\n",
      "\n",
      "See the caveats in the documentation: https://pandas.pydata.org/pandas-docs/stable/user_guide/indexing.html#returning-a-view-versus-a-copy\n",
      "  This is separate from the ipykernel package so we can avoid doing imports until\n",
      "C:\\ProgramData\\Anaconda3\\lib\\site-packages\\ipykernel_launcher.py:4: SettingWithCopyWarning: \n",
      "A value is trying to be set on a copy of a slice from a DataFrame.\n",
      "Try using .loc[row_indexer,col_indexer] = value instead\n",
      "\n",
      "See the caveats in the documentation: https://pandas.pydata.org/pandas-docs/stable/user_guide/indexing.html#returning-a-view-versus-a-copy\n",
      "  after removing the cwd from sys.path.\n"
     ]
    },
    {
     "data": {
      "text/plain": [
       "Ping (ms)                  float64\n",
       "Download (Mbit/s)          float64\n",
       "Upload (Mbit/s)            float64\n",
       "Date                        object\n",
       "Time                        object\n",
       "Ping (ms)_float            float64\n",
       "Download (Mbit/s)_float    float64\n",
       "dtype: object"
      ]
     },
     "execution_count": 16,
     "metadata": {},
     "output_type": "execute_result"
    }
   ],
   "source": [
    "# Code Cell 13\n",
    "# Convert Ping and Download to float\n",
    "df_compact_clean['Ping (ms)_float'] = df_compact_clean['Ping (ms)'].apply(lambda val: float(val))\n",
    "df_compact_clean['Download (Mbit/s)_float'] = df_compact_clean['Download (Mbit/s)'].apply(lambda val: float(val))\n",
    "\n",
    "#Check that the types have been successfully converted\n",
    "# ADD CODE HERE\n",
    "df_compact_clean.dtypes"
   ]
  },
  {
   "cell_type": "code",
   "execution_count": 17,
   "metadata": {},
   "outputs": [
    {
     "name": "stderr",
     "output_type": "stream",
     "text": [
      "C:\\ProgramData\\Anaconda3\\lib\\site-packages\\pandas\\core\\frame.py:3997: SettingWithCopyWarning: \n",
      "A value is trying to be set on a copy of a slice from a DataFrame\n",
      "\n",
      "See the caveats in the documentation: https://pandas.pydata.org/pandas-docs/stable/user_guide/indexing.html#returning-a-view-versus-a-copy\n",
      "  errors=errors,\n"
     ]
    }
   ],
   "source": [
    "# Code Cell 14\n",
    "# Remove the original 'Ping (ms)' and 'Download (Mbit/s)' columns\n",
    "df_compact_clean.drop(['Ping (ms)','Download (Mbit/s)'],axis=1,inplace=True)\n",
    "                       "
   ]
  },
  {
   "cell_type": "code",
   "execution_count": 18,
   "metadata": {},
   "outputs": [
    {
     "data": {
      "text/html": [
       "<div>\n",
       "<style scoped>\n",
       "    .dataframe tbody tr th:only-of-type {\n",
       "        vertical-align: middle;\n",
       "    }\n",
       "\n",
       "    .dataframe tbody tr th {\n",
       "        vertical-align: top;\n",
       "    }\n",
       "\n",
       "    .dataframe thead th {\n",
       "        text-align: right;\n",
       "    }\n",
       "</style>\n",
       "<table border=\"1\" class=\"dataframe\">\n",
       "  <thead>\n",
       "    <tr style=\"text-align: right;\">\n",
       "      <th></th>\n",
       "      <th>Upload (Mbit/s)</th>\n",
       "      <th>Date</th>\n",
       "      <th>Time</th>\n",
       "      <th>Ping (ms)_float</th>\n",
       "      <th>Download (Mbit/s)_float</th>\n",
       "    </tr>\n",
       "  </thead>\n",
       "  <tbody>\n",
       "    <tr>\n",
       "      <th>0</th>\n",
       "      <td>14.31</td>\n",
       "      <td>2016-11-24</td>\n",
       "      <td>13:36:25</td>\n",
       "      <td>26.992</td>\n",
       "      <td>91.80</td>\n",
       "    </tr>\n",
       "    <tr>\n",
       "      <th>1</th>\n",
       "      <td>14.12</td>\n",
       "      <td>2016-11-24</td>\n",
       "      <td>13:36:55</td>\n",
       "      <td>24.532</td>\n",
       "      <td>88.19</td>\n",
       "    </tr>\n",
       "    <tr>\n",
       "      <th>2</th>\n",
       "      <td>14.11</td>\n",
       "      <td>2016-11-24</td>\n",
       "      <td>13:37:25</td>\n",
       "      <td>20.225</td>\n",
       "      <td>59.86</td>\n",
       "    </tr>\n",
       "    <tr>\n",
       "      <th>3</th>\n",
       "      <td>14.22</td>\n",
       "      <td>2016-11-24</td>\n",
       "      <td>13:37:57</td>\n",
       "      <td>19.332</td>\n",
       "      <td>91.81</td>\n",
       "    </tr>\n",
       "    <tr>\n",
       "      <th>4</th>\n",
       "      <td>14.08</td>\n",
       "      <td>2016-11-24</td>\n",
       "      <td>13:38:27</td>\n",
       "      <td>22.494</td>\n",
       "      <td>92.05</td>\n",
       "    </tr>\n",
       "  </tbody>\n",
       "</table>\n",
       "</div>"
      ],
      "text/plain": [
       "   Upload (Mbit/s)        Date      Time  Ping (ms)_float  \\\n",
       "0            14.31  2016-11-24  13:36:25           26.992   \n",
       "1            14.12  2016-11-24  13:36:55           24.532   \n",
       "2            14.11  2016-11-24  13:37:25           20.225   \n",
       "3            14.22  2016-11-24  13:37:57           19.332   \n",
       "4            14.08  2016-11-24  13:38:27           22.494   \n",
       "\n",
       "   Download (Mbit/s)_float  \n",
       "0                    91.80  \n",
       "1                    88.19  \n",
       "2                    59.86  \n",
       "3                    91.81  \n",
       "4                    92.05  "
      ]
     },
     "execution_count": 18,
     "metadata": {},
     "output_type": "execute_result"
    }
   ],
   "source": [
    "df_compact_clean.head()\n"
   ]
  },
  {
   "cell_type": "code",
   "execution_count": 19,
   "metadata": {},
   "outputs": [
    {
     "name": "stderr",
     "output_type": "stream",
     "text": [
      "C:\\ProgramData\\Anaconda3\\lib\\site-packages\\pandas\\core\\frame.py:4133: SettingWithCopyWarning: \n",
      "A value is trying to be set on a copy of a slice from a DataFrame\n",
      "\n",
      "See the caveats in the documentation: https://pandas.pydata.org/pandas-docs/stable/user_guide/indexing.html#returning-a-view-versus-a-copy\n",
      "  errors=errors,\n"
     ]
    }
   ],
   "source": [
    "columnas = {\n",
    "    'Ping (ms)_float':'Ping (ms)',\n",
    "    'Download (Mbit/s)_float':'Download (Mbit/s)'\n",
    "           }\n",
    "df_compact_clean.rename(columns = columnas,inplace = True)"
   ]
  },
  {
   "cell_type": "code",
   "execution_count": 20,
   "metadata": {},
   "outputs": [
    {
     "data": {
      "text/html": [
       "<div>\n",
       "<style scoped>\n",
       "    .dataframe tbody tr th:only-of-type {\n",
       "        vertical-align: middle;\n",
       "    }\n",
       "\n",
       "    .dataframe tbody tr th {\n",
       "        vertical-align: top;\n",
       "    }\n",
       "\n",
       "    .dataframe thead th {\n",
       "        text-align: right;\n",
       "    }\n",
       "</style>\n",
       "<table border=\"1\" class=\"dataframe\">\n",
       "  <thead>\n",
       "    <tr style=\"text-align: right;\">\n",
       "      <th></th>\n",
       "      <th>Upload (Mbit/s)</th>\n",
       "      <th>Date</th>\n",
       "      <th>Time</th>\n",
       "      <th>Ping (ms)</th>\n",
       "      <th>Download (Mbit/s)</th>\n",
       "    </tr>\n",
       "  </thead>\n",
       "  <tbody>\n",
       "    <tr>\n",
       "      <th>0</th>\n",
       "      <td>14.31</td>\n",
       "      <td>2016-11-24</td>\n",
       "      <td>13:36:25</td>\n",
       "      <td>26.992</td>\n",
       "      <td>91.80</td>\n",
       "    </tr>\n",
       "    <tr>\n",
       "      <th>1</th>\n",
       "      <td>14.12</td>\n",
       "      <td>2016-11-24</td>\n",
       "      <td>13:36:55</td>\n",
       "      <td>24.532</td>\n",
       "      <td>88.19</td>\n",
       "    </tr>\n",
       "    <tr>\n",
       "      <th>2</th>\n",
       "      <td>14.11</td>\n",
       "      <td>2016-11-24</td>\n",
       "      <td>13:37:25</td>\n",
       "      <td>20.225</td>\n",
       "      <td>59.86</td>\n",
       "    </tr>\n",
       "    <tr>\n",
       "      <th>3</th>\n",
       "      <td>14.22</td>\n",
       "      <td>2016-11-24</td>\n",
       "      <td>13:37:57</td>\n",
       "      <td>19.332</td>\n",
       "      <td>91.81</td>\n",
       "    </tr>\n",
       "    <tr>\n",
       "      <th>4</th>\n",
       "      <td>14.08</td>\n",
       "      <td>2016-11-24</td>\n",
       "      <td>13:38:27</td>\n",
       "      <td>22.494</td>\n",
       "      <td>92.05</td>\n",
       "    </tr>\n",
       "  </tbody>\n",
       "</table>\n",
       "</div>"
      ],
      "text/plain": [
       "   Upload (Mbit/s)        Date      Time  Ping (ms)  Download (Mbit/s)\n",
       "0            14.31  2016-11-24  13:36:25     26.992              91.80\n",
       "1            14.12  2016-11-24  13:36:55     24.532              88.19\n",
       "2            14.11  2016-11-24  13:37:25     20.225              59.86\n",
       "3            14.22  2016-11-24  13:37:57     19.332              91.81\n",
       "4            14.08  2016-11-24  13:38:27     22.494              92.05"
      ]
     },
     "execution_count": 20,
     "metadata": {},
     "output_type": "execute_result"
    }
   ],
   "source": [
    "# Code Cell 16\n",
    "df_compact_clean.head()"
   ]
  },
  {
   "cell_type": "code",
   "execution_count": 21,
   "metadata": {},
   "outputs": [],
   "source": [
    "# Code Cell 17\n",
    "df_compact_clean =df_compact_clean.reindex(columns = ['Date', 'Time', 'Ping (ms)', 'Download (Mbit/s)','Upload (Mbit/s)']);"
   ]
  },
  {
   "cell_type": "code",
   "execution_count": 22,
   "metadata": {},
   "outputs": [
    {
     "data": {
      "text/html": [
       "<div>\n",
       "<style scoped>\n",
       "    .dataframe tbody tr th:only-of-type {\n",
       "        vertical-align: middle;\n",
       "    }\n",
       "\n",
       "    .dataframe tbody tr th {\n",
       "        vertical-align: top;\n",
       "    }\n",
       "\n",
       "    .dataframe thead th {\n",
       "        text-align: right;\n",
       "    }\n",
       "</style>\n",
       "<table border=\"1\" class=\"dataframe\">\n",
       "  <thead>\n",
       "    <tr style=\"text-align: right;\">\n",
       "      <th></th>\n",
       "      <th>Date</th>\n",
       "      <th>Time</th>\n",
       "      <th>Ping (ms)</th>\n",
       "      <th>Download (Mbit/s)</th>\n",
       "      <th>Upload (Mbit/s)</th>\n",
       "    </tr>\n",
       "  </thead>\n",
       "  <tbody>\n",
       "    <tr>\n",
       "      <th>0</th>\n",
       "      <td>2016-11-24</td>\n",
       "      <td>13:36:25</td>\n",
       "      <td>26.992</td>\n",
       "      <td>91.80</td>\n",
       "      <td>14.31</td>\n",
       "    </tr>\n",
       "    <tr>\n",
       "      <th>1</th>\n",
       "      <td>2016-11-24</td>\n",
       "      <td>13:36:55</td>\n",
       "      <td>24.532</td>\n",
       "      <td>88.19</td>\n",
       "      <td>14.12</td>\n",
       "    </tr>\n",
       "    <tr>\n",
       "      <th>2</th>\n",
       "      <td>2016-11-24</td>\n",
       "      <td>13:37:25</td>\n",
       "      <td>20.225</td>\n",
       "      <td>59.86</td>\n",
       "      <td>14.11</td>\n",
       "    </tr>\n",
       "    <tr>\n",
       "      <th>3</th>\n",
       "      <td>2016-11-24</td>\n",
       "      <td>13:37:57</td>\n",
       "      <td>19.332</td>\n",
       "      <td>91.81</td>\n",
       "      <td>14.22</td>\n",
       "    </tr>\n",
       "    <tr>\n",
       "      <th>4</th>\n",
       "      <td>2016-11-24</td>\n",
       "      <td>13:38:27</td>\n",
       "      <td>22.494</td>\n",
       "      <td>92.05</td>\n",
       "      <td>14.08</td>\n",
       "    </tr>\n",
       "  </tbody>\n",
       "</table>\n",
       "</div>"
      ],
      "text/plain": [
       "         Date      Time  Ping (ms)  Download (Mbit/s)  Upload (Mbit/s)\n",
       "0  2016-11-24  13:36:25     26.992              91.80            14.31\n",
       "1  2016-11-24  13:36:55     24.532              88.19            14.12\n",
       "2  2016-11-24  13:37:25     20.225              59.86            14.11\n",
       "3  2016-11-24  13:37:57     19.332              91.81            14.22\n",
       "4  2016-11-24  13:38:27     22.494              92.05            14.08"
      ]
     },
     "execution_count": 22,
     "metadata": {},
     "output_type": "execute_result"
    }
   ],
   "source": [
    "# Code Cell 16\n",
    "df_compact_clean.head()"
   ]
  },
  {
   "cell_type": "code",
   "execution_count": 24,
   "metadata": {},
   "outputs": [],
   "source": [
    "# Code Cell 18\n",
    "# Let's save the new cleaned dataframe to a csv\n",
    "df_compact_clean.to_csv('./Data/rpi_data_processed.csv', index=False)\n",
    "df_clean = df_compact_clean"
   ]
  },
  {
   "cell_type": "markdown",
   "metadata": {},
   "source": [
    "#### Paso 2: Estadísticas básicas\n",
    "Los nuevos datos requieren no solo limpieza, sino también tiempo para familiarizarse con ellos. Cuando inicia un proyecto de análisis de datos, vale la pena invertir en explorar y calcular algunas propiedades estadísticas básicas de los datos. Esto implica calcular promedios, desviaciones estándar y correlaciones."
   ]
  },
  {
   "cell_type": "code",
   "execution_count": 25,
   "metadata": {},
   "outputs": [
    {
     "name": "stdout",
     "output_type": "stream",
     "text": [
      "Average ping time: 21.113875000000007 ± 5.164907779028767 ms\n",
      "Average download speed: 90.45629464285713 ± 3.4633514246179895 Mbit/s\n",
      "Average upload speed: 13.69681547619048 ± 1.0810800645602712 Mbit/s\n"
     ]
    }
   ],
   "source": [
    "# Code Cell 19\n",
    "#Compute mean and std for all the columns of df_compact\n",
    "means = df_clean.mean()\n",
    "stands = df_clean.std()\n",
    "\n",
    "#Place mean and std for each column in a tuple\n",
    "stats_ping = (means['Ping (ms)'], stands['Ping (ms)'])\n",
    "stats_download = (means['Download (Mbit/s)'], stands['Download (Mbit/s)'])\n",
    "stats_upload = (means['Upload (Mbit/s)'], stands['Upload (Mbit/s)'])\n",
    "\n",
    "#Print the mean value ± the standard deviation, including measuring units\n",
    "print('Average ping time: {} ± {} ms'.format(*stats_ping))\n",
    "print('Average download speed: {} ± {} Mbit/s'.format(*stats_download))\n",
    "print('Average upload speed: {} ± {} Mbit/s'.format(*stats_upload))"
   ]
  },
  {
   "cell_type": "code",
   "execution_count": 26,
   "metadata": {},
   "outputs": [
    {
     "name": "stdout",
     "output_type": "stream",
     "text": [
      "Ping (ms)            21.113875\n",
      "Download (Mbit/s)    90.456295\n",
      "Upload (Mbit/s)      13.696815\n",
      "dtype: float64\n"
     ]
    },
    {
     "data": {
      "text/plain": [
       "21.113875000000007"
      ]
     },
     "execution_count": 26,
     "metadata": {},
     "output_type": "execute_result"
    }
   ],
   "source": [
    "# Code Cell 20\n",
    "means = df_clean.mean()\n",
    "print(means)\n",
    "means['Ping (ms)']"
   ]
  },
  {
   "cell_type": "code",
   "execution_count": 27,
   "metadata": {},
   "outputs": [
    {
     "name": "stdout",
     "output_type": "stream",
     "text": [
      "21.113875000000007\n",
      "21.113875000000007\n"
     ]
    }
   ],
   "source": [
    "# Code Cell 21\n",
    "df_clean['Ping (ms)'].values.sum()/len(df_clean)\n",
    "print(df_clean['Ping (ms)'].mean())\n",
    "print(df_clean.mean()['Ping (ms)'])"
   ]
  },
  {
   "cell_type": "code",
   "execution_count": 29,
   "metadata": {},
   "outputs": [
    {
     "data": {
      "text/plain": [
       "'2016-11-24'"
      ]
     },
     "execution_count": 29,
     "metadata": {},
     "output_type": "execute_result"
    }
   ],
   "source": [
    "# Code Cell 22\n",
    "df_clean['Date'][0]"
   ]
  },
  {
   "cell_type": "code",
   "execution_count": 30,
   "metadata": {},
   "outputs": [
    {
     "name": "stdout",
     "output_type": "stream",
     "text": [
      "Min ping time: 16.167 ms. Max ping time: 76.528 ms\n",
      "Min download speed: 58.48 Mbit/s. Max download speed: 92.87 Mbit/s\n",
      "Min upload speed: 6.21 Mbit/s. Max upload speed: 14.55 Mbit/s\n"
     ]
    }
   ],
   "source": [
    "# Code Cell 23\n",
    "#Compute max and min for all the columns of df_compact\n",
    "mins = df_clean.min()\n",
    "maxs = df_clean.max()\n",
    "\n",
    "#Place mean and std for each column in a tuple\n",
    "mima_ping = (mins['Ping (ms)'], maxs['Ping (ms)'])\n",
    "mima_download = (mins['Download (Mbit/s)'], maxs['Download (Mbit/s)'])\n",
    "mima_upload = (mins['Upload (Mbit/s)'], maxs['Upload (Mbit/s)'])\n",
    "\n",
    "#Print the mean and max values, including measuring units\n",
    "print('Min ping time: {} ms. Max ping time: {} ms'.format(*mima_ping))\n",
    "print('Min download speed: {} Mbit/s. Max download speed: {} Mbit/s'.format(*mima_download))\n",
    "print('Min upload speed: {} Mbit/s. Max upload speed: {} Mbit/s'.format(*mima_upload))"
   ]
  },
  {
   "cell_type": "code",
   "execution_count": 31,
   "metadata": {},
   "outputs": [
    {
     "data": {
      "text/html": [
       "<div>\n",
       "<style scoped>\n",
       "    .dataframe tbody tr th:only-of-type {\n",
       "        vertical-align: middle;\n",
       "    }\n",
       "\n",
       "    .dataframe tbody tr th {\n",
       "        vertical-align: top;\n",
       "    }\n",
       "\n",
       "    .dataframe thead th {\n",
       "        text-align: right;\n",
       "    }\n",
       "</style>\n",
       "<table border=\"1\" class=\"dataframe\">\n",
       "  <thead>\n",
       "    <tr style=\"text-align: right;\">\n",
       "      <th></th>\n",
       "      <th>Ping (ms)</th>\n",
       "      <th>Download (Mbit/s)</th>\n",
       "      <th>Upload (Mbit/s)</th>\n",
       "    </tr>\n",
       "  </thead>\n",
       "  <tbody>\n",
       "    <tr>\n",
       "      <th>count</th>\n",
       "      <td>672.000000</td>\n",
       "      <td>672.000000</td>\n",
       "      <td>672.000000</td>\n",
       "    </tr>\n",
       "    <tr>\n",
       "      <th>mean</th>\n",
       "      <td>21.113875</td>\n",
       "      <td>90.456295</td>\n",
       "      <td>13.696815</td>\n",
       "    </tr>\n",
       "    <tr>\n",
       "      <th>std</th>\n",
       "      <td>5.164908</td>\n",
       "      <td>3.463351</td>\n",
       "      <td>1.081080</td>\n",
       "    </tr>\n",
       "    <tr>\n",
       "      <th>min</th>\n",
       "      <td>16.167000</td>\n",
       "      <td>58.480000</td>\n",
       "      <td>6.210000</td>\n",
       "    </tr>\n",
       "    <tr>\n",
       "      <th>25%</th>\n",
       "      <td>19.113500</td>\n",
       "      <td>90.220000</td>\n",
       "      <td>13.640000</td>\n",
       "    </tr>\n",
       "    <tr>\n",
       "      <th>50%</th>\n",
       "      <td>20.320000</td>\n",
       "      <td>91.565000</td>\n",
       "      <td>13.980000</td>\n",
       "    </tr>\n",
       "    <tr>\n",
       "      <th>75%</th>\n",
       "      <td>21.837750</td>\n",
       "      <td>92.070000</td>\n",
       "      <td>14.180000</td>\n",
       "    </tr>\n",
       "    <tr>\n",
       "      <th>max</th>\n",
       "      <td>76.528000</td>\n",
       "      <td>92.870000</td>\n",
       "      <td>14.550000</td>\n",
       "    </tr>\n",
       "  </tbody>\n",
       "</table>\n",
       "</div>"
      ],
      "text/plain": [
       "        Ping (ms)  Download (Mbit/s)  Upload (Mbit/s)\n",
       "count  672.000000         672.000000       672.000000\n",
       "mean    21.113875          90.456295        13.696815\n",
       "std      5.164908           3.463351         1.081080\n",
       "min     16.167000          58.480000         6.210000\n",
       "25%     19.113500          90.220000        13.640000\n",
       "50%     20.320000          91.565000        13.980000\n",
       "75%     21.837750          92.070000        14.180000\n",
       "max     76.528000          92.870000        14.550000"
      ]
     },
     "execution_count": 31,
     "metadata": {},
     "output_type": "execute_result"
    }
   ],
   "source": [
    "# Code Cell 24\n",
    "df_clean.describe()"
   ]
  },
  {
   "cell_type": "code",
   "execution_count": 32,
   "metadata": {},
   "outputs": [],
   "source": [
    "# Code Cell 25\n",
    "# Find the min and max ping time\n",
    "argmin_ping = df_clean['Ping (ms)'].argmin()\n",
    "argmax_ping = df_clean['Ping (ms)'].argmax()\n",
    "\n",
    "# Find the min and max download speed\n",
    "argmin_download = df_clean['Download (Mbit/s)'].argmin()\n",
    "argmax_download = df_clean['Download (Mbit/s)'].argmax()\n",
    "\n",
    "# Find the min and max upload speed\n",
    "argmin_upload = df_clean['Upload (Mbit/s)'].argmin()\n",
    "argmax_upload = df_clean['Upload (Mbit/s)'].argmax()"
   ]
  },
  {
   "cell_type": "code",
   "execution_count": 35,
   "metadata": {},
   "outputs": [
    {
     "data": {
      "text/plain": [
       "217"
      ]
     },
     "execution_count": 35,
     "metadata": {},
     "output_type": "execute_result"
    }
   ],
   "source": [
    "argmin_ping"
   ]
  },
  {
   "cell_type": "code",
   "execution_count": 33,
   "metadata": {},
   "outputs": [
    {
     "data": {
      "text/html": [
       "<div>\n",
       "<style scoped>\n",
       "    .dataframe tbody tr th:only-of-type {\n",
       "        vertical-align: middle;\n",
       "    }\n",
       "\n",
       "    .dataframe tbody tr th {\n",
       "        vertical-align: top;\n",
       "    }\n",
       "\n",
       "    .dataframe thead th {\n",
       "        text-align: right;\n",
       "    }\n",
       "</style>\n",
       "<table border=\"1\" class=\"dataframe\">\n",
       "  <thead>\n",
       "    <tr style=\"text-align: right;\">\n",
       "      <th></th>\n",
       "      <th>field_1</th>\n",
       "      <th>field_2</th>\n",
       "    </tr>\n",
       "  </thead>\n",
       "  <tbody>\n",
       "    <tr>\n",
       "      <th>0</th>\n",
       "      <td>0</td>\n",
       "      <td>0</td>\n",
       "    </tr>\n",
       "    <tr>\n",
       "      <th>1</th>\n",
       "      <td>1</td>\n",
       "      <td>2</td>\n",
       "    </tr>\n",
       "  </tbody>\n",
       "</table>\n",
       "</div>"
      ],
      "text/plain": [
       "   field_1  field_2\n",
       "0        0        0\n",
       "1        1        2"
      ]
     },
     "execution_count": 33,
     "metadata": {},
     "output_type": "execute_result"
    }
   ],
   "source": [
    "# Code Cell 26\n",
    "# Create a small DataFrame and access its rows using iloc\n",
    "\n",
    "# A pandas DataFrame can be initialized passing a dict as a parameter to the constructor pd.DataFrame(). \n",
    "# The key will represent the column, the values the rows.\n",
    "df = pd.DataFrame({'field_1': [0,1], 'field_2': [0,2]})\n",
    "df.head()"
   ]
  },
  {
   "cell_type": "code",
   "execution_count": 36,
   "metadata": {},
   "outputs": [
    {
     "data": {
      "text/plain": [
       "1"
      ]
     },
     "execution_count": 36,
     "metadata": {},
     "output_type": "execute_result"
    }
   ],
   "source": [
    "# Code Cell 27\n",
    "# To access the field_1 of the first row using iloc()\n",
    "df.iloc[1]['field_1']"
   ]
  },
  {
   "cell_type": "code",
   "execution_count": 40,
   "metadata": {},
   "outputs": [
    {
     "name": "stdout",
     "output_type": "stream",
     "text": [
      "Ping measure reached minimum on 2016-11-24 at 15:26:20\n",
      "Download measure reached minimum on 2016-11-24 at 14:57:55\n",
      "Upload measure reached minimum on 2016-11-24 at 17:31:47\n",
      "Ping measure reached maximum on at 2016-11-24\n",
      "Download measure reached maximum on at 2016-11-24\n",
      "Upload measure reached maximum on at 2016-11-24\n"
     ]
    }
   ],
   "source": [
    "# Code Cell 28\n",
    "#Print the corresponding Date and Time\n",
    "print('Ping measure reached minimum on {} at {}'.format(\n",
    "    df_clean.loc[argmin_ping].Date, \n",
    "    df_clean.loc[argmin_ping].Time\n",
    "                 )\n",
    "                 )\n",
    "\n",
    "print('Download measure reached minimum on {} at {}'.format(\n",
    "    df_clean.loc[argmin_download].Date, \n",
    "    df_clean.loc[argmin_download].Time\n",
    "))\n",
    "\n",
    "print('Upload measure reached minimum on {} at {}'.format(\n",
    "    df_clean.loc[argmin_upload].Date, \n",
    "    df_clean.loc[argmin_upload].Time\n",
    "))\n",
    "\n",
    "print('Ping measure reached maximum on at {}'.format(\n",
    "    df_clean.loc[argmax_ping].Date, \n",
    "    df_clean.loc[argmax_ping].Time\n",
    ")) \n",
    "\n",
    "print('Download measure reached maximum on at {}'.format(\n",
    "    df_clean.loc[argmax_download].Date, \n",
    "    df_clean.loc[argmax_download].Time\n",
    "))\n",
    "\n",
    "print('Upload measure reached maximum on at {}'.format(\n",
    "    df_clean.loc[argmin_upload].Date, \n",
    "    df_clean.loc[argmin_upload].Time\n",
    "))"
   ]
  },
  {
   "cell_type": "code",
   "execution_count": 41,
   "metadata": {},
   "outputs": [
    {
     "data": {
      "text/html": [
       "<div>\n",
       "<style scoped>\n",
       "    .dataframe tbody tr th:only-of-type {\n",
       "        vertical-align: middle;\n",
       "    }\n",
       "\n",
       "    .dataframe tbody tr th {\n",
       "        vertical-align: top;\n",
       "    }\n",
       "\n",
       "    .dataframe thead th {\n",
       "        text-align: right;\n",
       "    }\n",
       "</style>\n",
       "<table border=\"1\" class=\"dataframe\">\n",
       "  <thead>\n",
       "    <tr style=\"text-align: right;\">\n",
       "      <th></th>\n",
       "      <th>Ping (ms)</th>\n",
       "      <th>Download (Mbit/s)</th>\n",
       "      <th>Upload (Mbit/s)</th>\n",
       "    </tr>\n",
       "  </thead>\n",
       "  <tbody>\n",
       "    <tr>\n",
       "      <th>Ping (ms)</th>\n",
       "      <td>1.000000</td>\n",
       "      <td>-0.045271</td>\n",
       "      <td>-0.463348</td>\n",
       "    </tr>\n",
       "    <tr>\n",
       "      <th>Download (Mbit/s)</th>\n",
       "      <td>-0.045271</td>\n",
       "      <td>1.000000</td>\n",
       "      <td>0.084833</td>\n",
       "    </tr>\n",
       "    <tr>\n",
       "      <th>Upload (Mbit/s)</th>\n",
       "      <td>-0.463348</td>\n",
       "      <td>0.084833</td>\n",
       "      <td>1.000000</td>\n",
       "    </tr>\n",
       "  </tbody>\n",
       "</table>\n",
       "</div>"
      ],
      "text/plain": [
       "                   Ping (ms)  Download (Mbit/s)  Upload (Mbit/s)\n",
       "Ping (ms)           1.000000          -0.045271        -0.463348\n",
       "Download (Mbit/s)  -0.045271           1.000000         0.084833\n",
       "Upload (Mbit/s)    -0.463348           0.084833         1.000000"
      ]
     },
     "execution_count": 41,
     "metadata": {},
     "output_type": "execute_result"
    }
   ],
   "source": [
    "# Code Cell 29\n",
    "# Are these variables correlated?\n",
    "df_corr = df_clean.corr()\n",
    "df_corr"
   ]
  },
  {
   "cell_type": "code",
   "execution_count": 42,
   "metadata": {},
   "outputs": [
    {
     "name": "stdout",
     "output_type": "stream",
     "text": [
      "Correlation coefficient between ping and download: -0.04527104992092839\n",
      "Correlation coefficient between ping and upload: -0.46334785028069125\n",
      "Correlation coefficient between upload and download: 0.08483302146561673\n"
     ]
    }
   ],
   "source": [
    "# Code Cell 30\n",
    "corr = df_corr.values\n",
    "print('Correlation coefficient between ping and download: {}'.format(corr[0, 1]))\n",
    "print('Correlation coefficient between ping and upload: {}'.format(corr[0, 2]))\n",
    "print('Correlation coefficient between upload and download: {}'.format(corr[2, 1]))"
   ]
  },
  {
   "cell_type": "markdown",
   "metadata": {},
   "source": [
    "### Parte 2: Visualización de datos"
   ]
  },
  {
   "cell_type": "markdown",
   "metadata": {},
   "source": [
    "#### Paso 1: Crear una primera visualización de los datos de la velocidad de Internet\n",
    "Visualizar el contenido de la Estructura de datos df_clean.\n",
    "\n"
   ]
  },
  {
   "cell_type": "code",
   "execution_count": 43,
   "metadata": {},
   "outputs": [],
   "source": [
    "# Code Cell 31\n",
    "import matplotlib.pyplot as plt\n",
    "\n",
    "# The following allows your Jupyter notebook to create plots inside a cell\n",
    "%matplotlib inline "
   ]
  },
  {
   "cell_type": "code",
   "execution_count": 49,
   "metadata": {},
   "outputs": [
    {
     "data": {
      "image/png": "[encoded data removed]",
      "text/plain": [
       "<Figure size 720x360 with 1 Axes>"
      ]
     },
     "metadata": {
      "needs_background": "light"
     },
     "output_type": "display_data"
    }
   ],
   "source": [
    "# Code Cell 32\n",
    "# Initialise figure\n",
    "fig, ax = plt.subplots(figsize=(10, 5))\n",
    "\n",
    "# Create x-axis\n",
    "t = pd.to_datetime(df_clean['Time'])\n",
    "\n",
    "# Plot three curves of different colors\n",
    "ax.plot(t, df_clean['Ping (ms)'], label='Ping (ms)')\n",
    "ax.plot(t,df_clean['Download (Mbit/s)'], label='Download (Mbit/s)')\n",
    "ax.plot(t, df_clean['Upload (Mbit/s)'], label='Upload (Mbit/s)')\n",
    "\n",
    "# Insert legend\n",
    "ax.legend()\n",
    "plt.show()"
   ]
  },
  {
   "cell_type": "code",
   "execution_count": 45,
   "metadata": {},
   "outputs": [
    {
     "data": {
      "text/plain": [
       "pandas._libs.tslibs.timestamps.Timestamp"
      ]
     },
     "execution_count": 45,
     "metadata": {},
     "output_type": "execute_result"
    }
   ],
   "source": [
    "# Code Cell 33\n",
    "type(t[0])"
   ]
  },
  {
   "cell_type": "code",
   "execution_count": 50,
   "metadata": {},
   "outputs": [
    {
     "data": {
      "image/png": "[encoded data removed]",
      "text/plain": [
       "<Figure size 720x360 with 1 Axes>"
      ]
     },
     "metadata": {
      "needs_background": "light"
     },
     "output_type": "display_data"
    }
   ],
   "source": [
    "# Code Cell 32\n",
    "# Initialise figure\n",
    "fig, ax = plt.subplots(figsize=(10, 5))\n",
    "\n",
    "# Create x-axis\n",
    "t = pd.to_datetime(df_clean['Time'])\n",
    "\n",
    "# Plot three curves of different colors\n",
    "ax.plot(t, df_clean['Ping (ms)'],'o', label='Ping (ms)')\n",
    "ax.plot(t,df_clean['Download (Mbit/s)'],'+', label='Download (Mbit/s)')\n",
    "ax.plot(t, df_clean['Upload (Mbit/s)'],'o', label='Upload (Mbit/s)')\n",
    "\n",
    "# Insert legend\n",
    "ax.legend()\n",
    "plt.show()"
   ]
  },
  {
   "cell_type": "code",
   "execution_count": 56,
   "metadata": {},
   "outputs": [
    {
     "data": {
      "image/png": "[encoded data removed]",
      "text/plain": [
       "<Figure size 720x360 with 1 Axes>"
      ]
     },
     "metadata": {
      "needs_background": "light"
     },
     "output_type": "display_data"
    }
   ],
   "source": [
    "# Code Cell 35\n",
    "# Initialise figure\n",
    "fig, ax = plt.subplots(figsize=(10, 5))\n",
    "\n",
    "# Plot three curves\n",
    "t = pd.to_datetime(df_clean['Time'])\n",
    "ax.plot(t, df_clean['Ping (ms)'], 'o', label='Ping (ms)')\n",
    "ax.plot(t, df_clean['Upload (Mbit/s)'], label='Upload (Mbit/s)')\n",
    "ax.plot(t, df_clean['Download (Mbit/s)'], label='Download (Mbit/s)')\n",
    "\n",
    "# Insert legend\n",
    "ax.legend()\n",
    "\n",
    "# Add axis labels and title\n",
    "ax.set_xlabel('Hora hh:mm:ss',size=16)\n",
    "ax.set_ylabel('Velocidad en Mbps',size=16)\n",
    "ax.set_title('Velocidad de Internet',size=18)\n",
    "\n",
    "# Change tick size\n",
    "ax.tick_params(labelsize=12)\n",
    "plt.show()"
   ]
  },
  {
   "cell_type": "code",
   "execution_count": 64,
   "metadata": {},
   "outputs": [
    {
     "data": {
      "image/png": "[encoded data removed]",
      "text/plain": [
       "<Figure size 720x360 with 1 Axes>"
      ]
     },
     "metadata": {},
     "output_type": "display_data"
    }
   ],
   "source": [
    "# Code Cell 36\n",
    "# Use a style context\n",
    "\n",
    "with plt.style.context('fivethirtyeight'):\n",
    "    # Initialise figure\n",
    "    fig, ax = plt.subplots(figsize=(10, 5))\n",
    "\n",
    "    # Plot three curves\n",
    "    t = pd.to_datetime(df_clean['Time'])\n",
    "    ax.plot(t, df_clean['Ping (ms)'], 'o', label='Ping (ms)')\n",
    "    ax.plot(t, df_clean['Upload (Mbit/s)'], label='Upload (Mbit/s)')\n",
    "    ax.plot(t, df_clean['Download (Mbit/s)'], label='Download (Mbit/s)')\n",
    "\n",
    "    # Insert legend\n",
    "    ax.legend()\n",
    "    \n",
    "    # Add axis labels and title\n",
    "    ax.set_xlabel('Hora hh:mm:ss',size=16)\n",
    "    ax.set_ylabel('Velocidad en Mbps',size=16)\n",
    "    ax.set_title('Velocidad de Internet',size=18)\n",
    "\n",
    "    # Change tick size\n",
    "    ax.tick_params(labelsize=12)\n",
    "    plt.show()"
   ]
  },
  {
   "cell_type": "code",
   "execution_count": 61,
   "metadata": {},
   "outputs": [
    {
     "data": {
      "image/png": "[encoded data removed]",
      "text/plain": [
       "<Figure size 720x720 with 4 Axes>"
      ]
     },
     "metadata": {},
     "output_type": "display_data"
    }
   ],
   "source": [
    "# Code Cell 37\n",
    "with plt.style.context('fivethirtyeight'):\n",
    "    \n",
    "    # Initialize figure\n",
    "    fig, ax = plt.subplots(2, 2, figsize=(10, 10))\n",
    "    ax[0][0].hist(df_clean['Ping (ms)'], 25)\n",
    "    ax[0][0].set_xlabel('Ping (ms)', fontsize=16)\n",
    "    ax[0][0].tick_params(labelsize=14)\n",
    "    ax[0][1].hist(df_clean['Upload (Mbit/s)'], 25)\n",
    "    ax[0][1].set_xlabel('Upload (Mbit/s)', fontsize=16)\n",
    "    ax[0][1].tick_params(labelsize=14)\n",
    "    ax[1][0].hist(df_clean['Download (Mbit/s)'], 25)\n",
    "    ax[1][0].set_xlabel('Download (Mbit/s)', fontsize=16)\n",
    "    ax[1][0].tick_params(labelsize=14)\n",
    "    ax[1][1].set_visible(False)"
   ]
  }
 ],
 "metadata": {
  "kernelspec": {
   "display_name": "Python 3",
   "language": "python",
   "name": "python3"
  },
  "language_info": {
   "codemirror_mode": {
    "name": "ipython",
    "version": 3
   },
   "file_extension": ".py",
   "mimetype": "text/x-python",
   "name": "python",
   "nbconvert_exporter": "python",
   "pygments_lexer": "ipython3",
   "version": "3.7.6"
  }
 },
 "nbformat": 4,
 "nbformat_minor": 4
}
