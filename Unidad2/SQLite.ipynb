{
 "cells": [
  {
   "cell_type": "markdown",
   "metadata": {},
   "source": [
    "![](../Assets/itd.png)\n",
    "<div style= \"Text-align: center\">\n",
    "    \n",
    "# Analisis de Datos \n",
    "## SQLite\n",
    "### José Gabriel Rodriguez Rivas    \n",
    "### Angel Omar Ceniceros Berumen\n",
    "    \n",
    "    \n",
    "\n",
    "</div>"
   ]
  },
  {
   "cell_type": "code",
   "execution_count": 1,
   "metadata": {},
   "outputs": [],
   "source": [
    "# this is the library to talk to the database\n",
    "import sqlite3\n",
    "import pandas as pd\n",
    "# this is a library for data visualization\n",
    "from matplotlib import pyplot as plt\n",
    "# this is to say that we want our plots to be part of this page, and not opened in a new window\n",
    "%matplotlib inline"
   ]
  },
  {
   "cell_type": "code",
   "execution_count": 2,
   "metadata": {},
   "outputs": [],
   "source": [
    "conn = sqlite3.connect('C:/dev/CienciaDatos/phonebook.db')"
   ]
  },
  {
   "cell_type": "code",
   "execution_count": 3,
   "metadata": {},
   "outputs": [],
   "source": [
    "cur = conn.cursor()"
   ]
  },
  {
   "cell_type": "code",
   "execution_count": 4,
   "metadata": {},
   "outputs": [
    {
     "data": {
      "text/plain": [
       "<sqlite3.Cursor at 0x1a23b4970a0>"
      ]
     },
     "execution_count": 4,
     "metadata": {},
     "output_type": "execute_result"
    }
   ],
   "source": [
    "query = \"SELECT name FROM coworkers;\"\n",
    "cur.execute(query)"
   ]
  },
  {
   "cell_type": "code",
   "execution_count": 5,
   "metadata": {},
   "outputs": [
    {
     "name": "stdout",
     "output_type": "stream",
     "text": [
      "('Han Solo',)\n",
      "('Leia Skywalker',)\n",
      "('Luke Skywalker',)\n",
      "('Obi-Wan Kenobi',)\n",
      "('Anakin Skywalker',)\n",
      "('Jabba The Hutt',)\n",
      "('Greedo',)\n",
      "('R2D2',)\n",
      "('C3PO',)\n"
     ]
    }
   ],
   "source": [
    "for row in cur:\n",
    "    print (row)"
   ]
  },
  {
   "cell_type": "markdown",
   "metadata": {},
   "source": [
    "### Desafío\n",
    "###### 1) Proporcione el código para consultar los nombres de todas las princesas.\n",
    "\n"
   ]
  },
  {
   "cell_type": "code",
   "execution_count": 6,
   "metadata": {},
   "outputs": [
    {
     "name": "stdout",
     "output_type": "stream",
     "text": [
      "('Leia Skywalker',)\n"
     ]
    }
   ],
   "source": [
    "consulta = \"SELECT name FROM coworkers WHERE title = 'Princess';\"\n",
    "cur.execute(consulta)\n",
    "for row in cur:\n",
    "    print (row)\n"
   ]
  },
  {
   "cell_type": "markdown",
   "metadata": {},
   "source": [
    "######  2) Proporcione el código para consultar los nombres de todas las princesas y los recaudadores."
   ]
  },
  {
   "cell_type": "code",
   "execution_count": 7,
   "metadata": {},
   "outputs": [
    {
     "name": "stdout",
     "output_type": "stream",
     "text": [
      "('Leia Skywalker',)\n",
      "('Greedo',)\n"
     ]
    }
   ],
   "source": [
    "consulta = \"SELECT name FROM coworkers WHERE title = 'Princess' OR title = 'Debt Collector';\"\n",
    "cur.execute(consulta)\n",
    "for row in cur:\n",
    "    print (row)\n"
   ]
  },
  {
   "cell_type": "markdown",
   "metadata": {},
   "source": [
    "###### 3) Proporcione el código para consultar los nombres y los números de todos los Jedi."
   ]
  },
  {
   "cell_type": "code",
   "execution_count": 8,
   "metadata": {},
   "outputs": [
    {
     "name": "stdout",
     "output_type": "stream",
     "text": [
      "('Luke Skywalker', 5558963267)\n",
      "('Obi-Wan Kenobi', 5558963276)\n"
     ]
    }
   ],
   "source": [
    "consulta = \"SELECT name, number FROM coworkers WHERE title = 'Jedi';\"\n",
    "cur.execute(consulta)\n",
    "for row in cur:\n",
    "    print (row)\n"
   ]
  },
  {
   "cell_type": "markdown",
   "metadata": {},
   "source": [
    "###### 4) Proporcione el código para consultar los nombres de los droids"
   ]
  },
  {
   "cell_type": "code",
   "execution_count": 9,
   "metadata": {},
   "outputs": [
    {
     "name": "stdout",
     "output_type": "stream",
     "text": [
      "('R2D2',)\n",
      "('C3PO',)\n"
     ]
    }
   ],
   "source": [
    "consulta = \"SELECT name FROM coworkers WHERE title = 'Astro Droid' OR title = 'Protocol Droid';\"\n",
    "cur.execute(consulta)\n",
    "for row in cur:\n",
    "    print (row)\n"
   ]
  }
 ],
 "metadata": {
  "kernelspec": {
   "display_name": "Python 3",
   "language": "python",
   "name": "python3"
  },
  "language_info": {
   "codemirror_mode": {
    "name": "ipython",
    "version": 3
   },
   "file_extension": ".py",
   "mimetype": "text/x-python",
   "name": "python",
   "nbconvert_exporter": "python",
   "pygments_lexer": "ipython3",
   "version": "3.7.6"
  }
 },
 "nbformat": 4,
 "nbformat_minor": 4
}
